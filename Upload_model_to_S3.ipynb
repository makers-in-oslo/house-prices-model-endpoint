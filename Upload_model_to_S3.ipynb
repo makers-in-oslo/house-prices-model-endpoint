{
 "cells": [
  {
   "cell_type": "code",
   "execution_count": 4,
   "metadata": {},
   "outputs": [],
   "source": [
    "import boto3\n",
    "from botocore.exceptions import NoCredentialsError"
   ]
  },
  {
   "cell_type": "code",
   "execution_count": 5,
   "metadata": {},
   "outputs": [],
   "source": [
    "s3 = boto3.client('s3', aws_access_key_id=os.environ['ACCESS_KEY'],\n",
    "                  aws_secret_access_key=os.environ['SECRET_KEY'])"
   ]
  },
  {
   "cell_type": "code",
   "execution_count": 9,
   "metadata": {},
   "outputs": [
    {
     "data": {
      "text/plain": [
       "{'ResponseMetadata': {'RequestId': '66E084375E4AC227',\n",
       "  'HostId': 'R/vwIfMpsS8rEvlGjghrQAEOARMZKCujmIJiWyvTc8Ozmxb7G9BQGgMkGCK2x/i8I7mUrxVjwlM=',\n",
       "  'HTTPStatusCode': 200,\n",
       "  'HTTPHeaders': {'x-amz-id-2': 'R/vwIfMpsS8rEvlGjghrQAEOARMZKCujmIJiWyvTc8Ozmxb7G9BQGgMkGCK2x/i8I7mUrxVjwlM=',\n",
       "   'x-amz-request-id': '66E084375E4AC227',\n",
       "   'date': 'Mon, 16 Mar 2020 13:35:41 GMT',\n",
       "   'content-type': 'application/xml',\n",
       "   'transfer-encoding': 'chunked',\n",
       "   'server': 'AmazonS3'},\n",
       "  'RetryAttempts': 0},\n",
       " 'Buckets': [{'Name': 'ds-lett',\n",
       "   'CreationDate': datetime.datetime(2020, 3, 16, 9, 37, 18, tzinfo=tzutc())},\n",
       "  {'Name': 'kaggle-speedrun',\n",
       "   'CreationDate': datetime.datetime(2020, 2, 6, 17, 53, 42, tzinfo=tzutc())}],\n",
       " 'Owner': {'DisplayName': 'daniel.haugstvedt',\n",
       "  'ID': '1966d0176f2dc2743dd2252c3b2d7a57a640212e385c94776bce3524ce29821c'}}"
      ]
     },
     "execution_count": 9,
     "metadata": {},
     "output_type": "execute_result"
    }
   ],
   "source": [
    "s3.list_buckets()"
   ]
  },
  {
   "cell_type": "code",
   "execution_count": 14,
   "metadata": {},
   "outputs": [
    {
     "data": {
      "text/plain": [
       "['model.pkl']"
      ]
     },
     "execution_count": 14,
     "metadata": {},
     "output_type": "execute_result"
    }
   ],
   "source": [
    "os.listdir(\"./models\")"
   ]
  },
  {
   "cell_type": "code",
   "execution_count": null,
   "metadata": {},
   "outputs": [],
   "source": [
    "s3."
   ]
  },
  {
   "cell_type": "code",
   "execution_count": null,
   "metadata": {},
   "outputs": [],
   "source": [
    "s3.upload_file()"
   ]
  },
  {
   "cell_type": "code",
   "execution_count": 11,
   "metadata": {},
   "outputs": [],
   "source": [
    "def upload_to_aws(local_file, bucket, s3_file):\n",
    "    s3 = boto3.client('s3', aws_access_key_id=os.environ['ACCESS_KEY'],\n",
    "                      aws_secret_access_key=os.environ['SECRET_KEY'])\n",
    "\n",
    "    try:\n",
    "        s3.upload_file(local_file, bucket, s3_file)\n",
    "        print(\"Upload Successful\")\n",
    "        return True\n",
    "    except FileNotFoundError:\n",
    "        print(\"The file was not found\")\n",
    "        return False\n",
    "    except NoCredentialsError:\n",
    "        print(\"Credentials not available\")\n",
    "        return False"
   ]
  },
  {
   "cell_type": "code",
   "execution_count": 16,
   "metadata": {},
   "outputs": [
    {
     "name": "stdout",
     "output_type": "stream",
     "text": [
      "Upload Successful\n"
     ]
    },
    {
     "data": {
      "text/plain": [
       "True"
      ]
     },
     "execution_count": 16,
     "metadata": {},
     "output_type": "execute_result"
    }
   ],
   "source": [
    "upload_to_aws(local_file = \"./models/model.pkl\",bucket = \"ds-lett\", s3_file=\"model_d.pkl\")"
   ]
  },
  {
   "cell_type": "code",
   "execution_count": 31,
   "metadata": {},
   "outputs": [
    {
     "data": {
      "text/plain": [
       "{'ResponseMetadata': {'RequestId': 'D9D04D2C6417E037',\n",
       "  'HostId': 'Oo0+jDsu4MkVPDuRIdME6/FASLJDDYHbwtJCWMKff7rz7Yn0h8Ow4+NumUjEWdgOypg+WQ6R1s8=',\n",
       "  'HTTPStatusCode': 200,\n",
       "  'HTTPHeaders': {'x-amz-id-2': 'Oo0+jDsu4MkVPDuRIdME6/FASLJDDYHbwtJCWMKff7rz7Yn0h8Ow4+NumUjEWdgOypg+WQ6R1s8=',\n",
       "   'x-amz-request-id': 'D9D04D2C6417E037',\n",
       "   'date': 'Mon, 16 Mar 2020 14:18:36 GMT',\n",
       "   'content-type': 'application/xml',\n",
       "   'transfer-encoding': 'chunked',\n",
       "   'server': 'AmazonS3'},\n",
       "  'RetryAttempts': 0},\n",
       " 'Buckets': [{'Name': 'ds-lett',\n",
       "   'CreationDate': datetime.datetime(2020, 3, 16, 9, 37, 18, tzinfo=tzutc())},\n",
       "  {'Name': 'kaggle-speedrun',\n",
       "   'CreationDate': datetime.datetime(2020, 2, 6, 17, 53, 42, tzinfo=tzutc())}],\n",
       " 'Owner': {'DisplayName': 'daniel.haugstvedt',\n",
       "  'ID': '1966d0176f2dc2743dd2252c3b2d7a57a640212e385c94776bce3524ce29821c'}}"
      ]
     },
     "execution_count": 31,
     "metadata": {},
     "output_type": "execute_result"
    }
   ],
   "source": [
    "s3.list_buckets()"
   ]
  },
  {
   "cell_type": "code",
   "execution_count": 30,
   "metadata": {},
   "outputs": [
    {
     "data": {
      "text/plain": [
       "{'ResponseMetadata': {'RequestId': '29897A1959D96DED',\n",
       "  'HostId': 'f+FKzkGO0dB3jcdFSAXs+TMdH3f33NMf0NcFXRj/z5Jvw1MANUWXpYNBlFsUPQrxhCxwWnTGlPQ=',\n",
       "  'HTTPStatusCode': 200,\n",
       "  'HTTPHeaders': {'x-amz-id-2': 'f+FKzkGO0dB3jcdFSAXs+TMdH3f33NMf0NcFXRj/z5Jvw1MANUWXpYNBlFsUPQrxhCxwWnTGlPQ=',\n",
       "   'x-amz-request-id': '29897A1959D96DED',\n",
       "   'date': 'Mon, 16 Mar 2020 14:18:20 GMT',\n",
       "   'x-amz-bucket-region': 'eu-west-2',\n",
       "   'content-type': 'application/xml',\n",
       "   'transfer-encoding': 'chunked',\n",
       "   'server': 'AmazonS3'},\n",
       "  'RetryAttempts': 0},\n",
       " 'IsTruncated': False,\n",
       " 'Contents': [{'Key': 'house-prices/',\n",
       "   'LastModified': datetime.datetime(2020, 3, 16, 9, 42, 39, tzinfo=tzutc()),\n",
       "   'ETag': '\"d41d8cd98f00b204e9800998ecf8427e\"',\n",
       "   'Size': 0,\n",
       "   'StorageClass': 'STANDARD'},\n",
       "  {'Key': 'house-prices/models/',\n",
       "   'LastModified': datetime.datetime(2020, 3, 16, 9, 42, 50, tzinfo=tzutc()),\n",
       "   'ETag': '\"d41d8cd98f00b204e9800998ecf8427e\"',\n",
       "   'Size': 0,\n",
       "   'StorageClass': 'STANDARD'},\n",
       "  {'Key': 'house-prices/models/model_d.pkl',\n",
       "   'LastModified': datetime.datetime(2020, 3, 16, 13, 44, 28, tzinfo=tzutc()),\n",
       "   'ETag': '\"f295fb0a5efe14c97125690f4fd8db79\"',\n",
       "   'Size': 43518,\n",
       "   'StorageClass': 'STANDARD'}],\n",
       " 'Name': 'ds-lett',\n",
       " 'Prefix': '',\n",
       " 'MaxKeys': 1000,\n",
       " 'EncodingType': 'url',\n",
       " 'KeyCount': 3}"
      ]
     },
     "execution_count": 30,
     "metadata": {},
     "output_type": "execute_result"
    }
   ],
   "source": [
    "s3.list_objects_v2(Bucket=\"ds-lett\")"
   ]
  },
  {
   "cell_type": "markdown",
   "metadata": {},
   "source": [
    "hehe, missed ... Loaded the model straight into ds-lett folder and not within house-prices/models..."
   ]
  },
  {
   "cell_type": "code",
   "execution_count": 20,
   "metadata": {},
   "outputs": [
    {
     "name": "stdout",
     "output_type": "stream",
     "text": [
      "Upload Successful\n"
     ]
    },
    {
     "data": {
      "text/plain": [
       "True"
      ]
     },
     "execution_count": 20,
     "metadata": {},
     "output_type": "execute_result"
    }
   ],
   "source": [
    "upload_to_aws(local_file = \"./models/model.pkl\",bucket = \"ds-lett\", s3_file=\"house-prices/models/model_d.pkl\")"
   ]
  },
  {
   "cell_type": "code",
   "execution_count": 22,
   "metadata": {},
   "outputs": [
    {
     "data": {
      "text/plain": [
       "{'ResponseMetadata': {'RequestId': 'AD36BE8FC53D6626',\n",
       "  'HostId': 'NCmBMn+ImSV4CjdVegYN5L0l1Zf3eSWxcQaqf3WZP3tN9Xd0knQPrADoKwL4DWFwSaGBqyw1LTU=',\n",
       "  'HTTPStatusCode': 204,\n",
       "  'HTTPHeaders': {'x-amz-id-2': 'NCmBMn+ImSV4CjdVegYN5L0l1Zf3eSWxcQaqf3WZP3tN9Xd0knQPrADoKwL4DWFwSaGBqyw1LTU=',\n",
       "   'x-amz-request-id': 'AD36BE8FC53D6626',\n",
       "   'date': 'Mon, 16 Mar 2020 13:45:25 GMT',\n",
       "   'x-amz-version-id': 'FxdeV.jRpToQQWTQoE89adjpbTJU7Pb0',\n",
       "   'x-amz-delete-marker': 'true',\n",
       "   'server': 'AmazonS3'},\n",
       "  'RetryAttempts': 0},\n",
       " 'DeleteMarker': True,\n",
       " 'VersionId': 'FxdeV.jRpToQQWTQoE89adjpbTJU7Pb0'}"
      ]
     },
     "execution_count": 22,
     "metadata": {},
     "output_type": "execute_result"
    }
   ],
   "source": [
    "s3.delete_object(Bucket=\"ds-lett\",Key=\"model_d.pkl\")"
   ]
  },
  {
   "cell_type": "code",
   "execution_count": 40,
   "metadata": {},
   "outputs": [],
   "source": [
    "s3.download_file(Bucket=\"ds-lett\",Key=\"house-prices/models/model_d.pkl\",Filename=\"./models/tmp_model.pkl\")"
   ]
  },
  {
   "cell_type": "code",
   "execution_count": 24,
   "metadata": {},
   "outputs": [],
   "source": [
    "import pickle"
   ]
  },
  {
   "cell_type": "code",
   "execution_count": 41,
   "metadata": {},
   "outputs": [
    {
     "ename": "ModuleNotFoundError",
     "evalue": "No module named 'xgboost'",
     "output_type": "error",
     "traceback": [
      "\u001b[0;31m---------------------------------------------------------------------------\u001b[0m",
      "\u001b[0;31mModuleNotFoundError\u001b[0m                       Traceback (most recent call last)",
      "\u001b[0;32m<ipython-input-41-2b3ed2f4bcc5>\u001b[0m in \u001b[0;36m<module>\u001b[0;34m\u001b[0m\n\u001b[1;32m     12\u001b[0m \u001b[0;34m\u001b[0m\u001b[0m\n\u001b[1;32m     13\u001b[0m \u001b[0;32mwith\u001b[0m \u001b[0mopen\u001b[0m\u001b[0;34m(\u001b[0m\u001b[0;34m\"models/\"\u001b[0m \u001b[0;34m+\u001b[0m \u001b[0mmodel_name_d\u001b[0m\u001b[0;34m,\u001b[0m \u001b[0;34m\"rb\"\u001b[0m\u001b[0;34m)\u001b[0m \u001b[0;32mas\u001b[0m \u001b[0mf\u001b[0m\u001b[0;34m:\u001b[0m\u001b[0;34m\u001b[0m\u001b[0;34m\u001b[0m\u001b[0m\n\u001b[0;32m---> 14\u001b[0;31m     \u001b[0mMODEL_DANIEL\u001b[0m \u001b[0;34m=\u001b[0m \u001b[0mpickle\u001b[0m\u001b[0;34m.\u001b[0m\u001b[0mload\u001b[0m\u001b[0;34m(\u001b[0m\u001b[0mf\u001b[0m\u001b[0;34m)\u001b[0m\u001b[0;34m\u001b[0m\u001b[0;34m\u001b[0m\u001b[0m\n\u001b[0m",
      "\u001b[0;31mModuleNotFoundError\u001b[0m: No module named 'xgboost'"
     ]
    }
   ],
   "source": [
    "model_name_d = \"tmp_model_d.pkl\"\n",
    "s3 = boto3.client(\n",
    "    \"s3\",\n",
    "    aws_access_key_id=os.environ[\"ACCESS_KEY\"],\n",
    "    aws_secret_access_key=os.environ[\"SECRET_KEY\"],\n",
    ")\n",
    "s3.download_file(\n",
    "    Bucket=\"ds-lett\",\n",
    "    Key=\"house-prices/models/model_d.pkl\",\n",
    "    Filename=\"./models/\" + model_name_d,\n",
    ")\n",
    "\n",
    "with open(\"models/\" + model_name_d, \"rb\") as f:\n",
    "    model_d = pickle.load(f)"
   ]
  }
 ],
 "metadata": {
  "kernelspec": {
   "display_name": "Python [conda env:titanic-ml-app]",
   "language": "python",
   "name": "conda-env-titanic-ml-app-py"
  },
  "language_info": {
   "codemirror_mode": {
    "name": "ipython",
    "version": 3
   },
   "file_extension": ".py",
   "mimetype": "text/x-python",
   "name": "python",
   "nbconvert_exporter": "python",
   "pygments_lexer": "ipython3",
   "version": "3.7.6"
  }
 },
 "nbformat": 4,
 "nbformat_minor": 4
}
